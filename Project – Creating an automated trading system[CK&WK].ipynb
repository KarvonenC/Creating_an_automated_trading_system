{
 "cells": [
  {
   "cell_type": "markdown",
   "metadata": {},
   "source": [
    "## Project – Creating an automated trading system\n",
    "\n",
    "#### Christian Karvonen IA-15 & Wilhelm Kinos IA-15"
   ]
  },
  {
   "cell_type": "markdown",
   "metadata": {},
   "source": [
    "#### Imports:"
   ]
  },
  {
   "cell_type": "code",
   "execution_count": 1,
   "metadata": {},
   "outputs": [
    {
     "data": {
      "text/html": [
       "<script>requirejs.config({paths: { 'plotly': ['https://cdn.plot.ly/plotly-latest.min']},});if(!window.Plotly) {{require(['plotly'],function(plotly) {window.Plotly=plotly;});}}</script>"
      ],
      "text/vnd.plotly.v1+html": [
       "<script>requirejs.config({paths: { 'plotly': ['https://cdn.plot.ly/plotly-latest.min']},});if(!window.Plotly) {{require(['plotly'],function(plotly) {window.Plotly=plotly;});}}</script>"
      ]
     },
     "metadata": {},
     "output_type": "display_data"
    }
   ],
   "source": [
    "import datetime as dt\n",
    "import numpy as np\n",
    "import pandas as pd\n",
    "pd.core.common.is_list_like = pd.api.types.is_list_like\n",
    "from pandas_datareader.data import DataReader\n",
    "from plotly.offline import init_notebook_mode, iplot\n",
    "from plotly.graph_objs import *\n",
    "import matplotlib.pyplot as plt\n",
    "from collections import defaultdict\n",
    "from sklearn.linear_model import LinearRegression, ElasticNetCV, Ridge, BayesianRidge, LassoCV, LassoLarsCV\n",
    "from sklearn.neural_network import MLPRegressor\n",
    "from sklearn import preprocessing, svm, model_selection\n",
    "from sklearn.model_selection import TimeSeriesSplit\n",
    "from sklearn.metrics import confusion_matrix\n",
    "init_notebook_mode(connected=True)"
   ]
  },
  {
   "cell_type": "markdown",
   "metadata": {},
   "source": [
    "#### Defining timeframe of stocks:"
   ]
  },
  {
   "cell_type": "code",
   "execution_count": 2,
   "metadata": {},
   "outputs": [
    {
     "name": "stdout",
     "output_type": "stream",
     "text": [
      "['2018-10-29']\n"
     ]
    }
   ],
   "source": [
    "end = dt.date.today()\n",
    "endday = end\n",
    "endday = endday.strftime('%Y-%m-%d')\n",
    "print([endday])\n",
    "start = end - dt.timedelta(days=5*365)"
   ]
  },
  {
   "cell_type": "markdown",
   "metadata": {},
   "source": [
    "#### Use of DataReader to get MU stock data from IEX https://iextrading.com/developer/"
   ]
  },
  {
   "cell_type": "code",
   "execution_count": 3,
   "metadata": {},
   "outputs": [
    {
     "name": "stdout",
     "output_type": "stream",
     "text": [
      "5y\n"
     ]
    },
    {
     "data": {
      "text/html": [
       "<div>\n",
       "<style scoped>\n",
       "    .dataframe tbody tr th:only-of-type {\n",
       "        vertical-align: middle;\n",
       "    }\n",
       "\n",
       "    .dataframe tbody tr th {\n",
       "        vertical-align: top;\n",
       "    }\n",
       "\n",
       "    .dataframe thead th {\n",
       "        text-align: right;\n",
       "    }\n",
       "</style>\n",
       "<table border=\"1\" class=\"dataframe\">\n",
       "  <thead>\n",
       "    <tr style=\"text-align: right;\">\n",
       "      <th></th>\n",
       "      <th>open</th>\n",
       "      <th>high</th>\n",
       "      <th>low</th>\n",
       "      <th>close</th>\n",
       "      <th>volume</th>\n",
       "    </tr>\n",
       "    <tr>\n",
       "      <th>date</th>\n",
       "      <th></th>\n",
       "      <th></th>\n",
       "      <th></th>\n",
       "      <th></th>\n",
       "      <th></th>\n",
       "    </tr>\n",
       "  </thead>\n",
       "  <tbody>\n",
       "    <tr>\n",
       "      <th>2018-10-15</th>\n",
       "      <td>42.03</td>\n",
       "      <td>42.5500</td>\n",
       "      <td>41.63</td>\n",
       "      <td>42.34</td>\n",
       "      <td>27697328</td>\n",
       "    </tr>\n",
       "    <tr>\n",
       "      <th>2018-10-16</th>\n",
       "      <td>42.70</td>\n",
       "      <td>43.3500</td>\n",
       "      <td>42.30</td>\n",
       "      <td>43.21</td>\n",
       "      <td>28827416</td>\n",
       "    </tr>\n",
       "    <tr>\n",
       "      <th>2018-10-17</th>\n",
       "      <td>43.33</td>\n",
       "      <td>43.3900</td>\n",
       "      <td>42.11</td>\n",
       "      <td>42.35</td>\n",
       "      <td>27758963</td>\n",
       "    </tr>\n",
       "    <tr>\n",
       "      <th>2018-10-18</th>\n",
       "      <td>42.04</td>\n",
       "      <td>42.2125</td>\n",
       "      <td>41.14</td>\n",
       "      <td>41.30</td>\n",
       "      <td>33560822</td>\n",
       "    </tr>\n",
       "    <tr>\n",
       "      <th>2018-10-19</th>\n",
       "      <td>41.67</td>\n",
       "      <td>41.9850</td>\n",
       "      <td>40.27</td>\n",
       "      <td>40.45</td>\n",
       "      <td>28641375</td>\n",
       "    </tr>\n",
       "    <tr>\n",
       "      <th>2018-10-22</th>\n",
       "      <td>40.56</td>\n",
       "      <td>40.7000</td>\n",
       "      <td>38.64</td>\n",
       "      <td>39.76</td>\n",
       "      <td>34441221</td>\n",
       "    </tr>\n",
       "    <tr>\n",
       "      <th>2018-10-23</th>\n",
       "      <td>38.15</td>\n",
       "      <td>39.1100</td>\n",
       "      <td>37.41</td>\n",
       "      <td>38.68</td>\n",
       "      <td>46364174</td>\n",
       "    </tr>\n",
       "    <tr>\n",
       "      <th>2018-10-24</th>\n",
       "      <td>38.00</td>\n",
       "      <td>38.3000</td>\n",
       "      <td>35.40</td>\n",
       "      <td>35.43</td>\n",
       "      <td>53096450</td>\n",
       "    </tr>\n",
       "    <tr>\n",
       "      <th>2018-10-25</th>\n",
       "      <td>35.59</td>\n",
       "      <td>37.1600</td>\n",
       "      <td>35.06</td>\n",
       "      <td>36.78</td>\n",
       "      <td>39625699</td>\n",
       "    </tr>\n",
       "    <tr>\n",
       "      <th>2018-10-26</th>\n",
       "      <td>35.28</td>\n",
       "      <td>35.9100</td>\n",
       "      <td>34.30</td>\n",
       "      <td>35.40</td>\n",
       "      <td>41257357</td>\n",
       "    </tr>\n",
       "  </tbody>\n",
       "</table>\n",
       "</div>"
      ],
      "text/plain": [
       "             open     high    low  close    volume\n",
       "date                                              \n",
       "2018-10-15  42.03  42.5500  41.63  42.34  27697328\n",
       "2018-10-16  42.70  43.3500  42.30  43.21  28827416\n",
       "2018-10-17  43.33  43.3900  42.11  42.35  27758963\n",
       "2018-10-18  42.04  42.2125  41.14  41.30  33560822\n",
       "2018-10-19  41.67  41.9850  40.27  40.45  28641375\n",
       "2018-10-22  40.56  40.7000  38.64  39.76  34441221\n",
       "2018-10-23  38.15  39.1100  37.41  38.68  46364174\n",
       "2018-10-24  38.00  38.3000  35.40  35.43  53096450\n",
       "2018-10-25  35.59  37.1600  35.06  36.78  39625699\n",
       "2018-10-26  35.28  35.9100  34.30  35.40  41257357"
      ]
     },
     "execution_count": 3,
     "metadata": {},
     "output_type": "execute_result"
    }
   ],
   "source": [
    "df = DataReader('MU', 'iex', start, end)\n",
    "df.tail(10)"
   ]
  }
 ],
 "metadata": {
  "kernelspec": {
   "display_name": "Python 3",
   "language": "python",
   "name": "python3"
  },
  "language_info": {
   "codemirror_mode": {
    "name": "ipython",
    "version": 3
   },
   "file_extension": ".py",
   "mimetype": "text/x-python",
   "name": "python",
   "nbconvert_exporter": "python",
   "pygments_lexer": "ipython3",
   "version": "3.6.6"
  }
 },
 "nbformat": 4,
 "nbformat_minor": 2
}
